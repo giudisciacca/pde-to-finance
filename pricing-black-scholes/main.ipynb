{
 "cells": [
  {
   "cell_type": "code",
   "execution_count": 2,
   "id": "6995e8c3",
   "metadata": {},
   "outputs": [],
   "source": [
    "from pricing import visual\n",
    "from pricing import market_data\n"
   ]
  },
  {
   "cell_type": "code",
   "execution_count": 4,
   "id": "f0fc256e",
   "metadata": {},
   "outputs": [
    {
     "ename": "KeyboardInterrupt",
     "evalue": "",
     "output_type": "error",
     "traceback": [
      "\u001b[31m---------------------------------------------------------------------------\u001b[39m",
      "\u001b[31mKeyboardInterrupt\u001b[39m                         Traceback (most recent call last)",
      "\u001b[36mCell\u001b[39m\u001b[36m \u001b[39m\u001b[32mIn[4]\u001b[39m\u001b[32m, line 10\u001b[39m\n\u001b[32m      3\u001b[39m \u001b[38;5;66;03m# Ticker\tNome\u001b[39;00m\n\u001b[32m      4\u001b[39m \u001b[38;5;66;03m# run simulation of stock price with given volatilty and drift\u001b[39;00m\n\u001b[32m      5\u001b[39m input_kwargs = {\u001b[33m\"\u001b[39m\u001b[33mvolatility\u001b[39m\u001b[33m\"\u001b[39m: \u001b[32m0.001\u001b[39m,\n\u001b[32m      6\u001b[39m                 \u001b[33m\"\u001b[39m\u001b[33mdrift\u001b[39m\u001b[33m\"\u001b[39m : \u001b[32m0.001\u001b[39m,\n\u001b[32m      7\u001b[39m                 \u001b[33m\"\u001b[39m\u001b[33mS0\u001b[39m\u001b[33m\"\u001b[39m : \u001b[32m100\u001b[39m,\n\u001b[32m      8\u001b[39m                 \u001b[33m\"\u001b[39m\u001b[33mt0\u001b[39m\u001b[33m\"\u001b[39m : \u001b[32m0\u001b[39m,\n\u001b[32m      9\u001b[39m                 \u001b[33m\"\u001b[39m\u001b[33mT\u001b[39m\u001b[33m\"\u001b[39m : \u001b[32m3600\u001b[39m*\u001b[32m24\u001b[39m,\n\u001b[32m---> \u001b[39m\u001b[32m10\u001b[39m                 \u001b[33m\"\u001b[39m\u001b[33mdt\u001b[39m\u001b[33m\"\u001b[39m : \u001b[32;43m60\u001b[39;49m}\n\u001b[32m     12\u001b[39m sim = market_data.simulation(**input_kwargs)\n\u001b[32m     13\u001b[39m visual.plot_signal(*sim.forward())\n",
      "\u001b[36mCell\u001b[39m\u001b[36m \u001b[39m\u001b[32mIn[4]\u001b[39m\u001b[32m, line 10\u001b[39m\n\u001b[32m      3\u001b[39m \u001b[38;5;66;03m# Ticker\tNome\u001b[39;00m\n\u001b[32m      4\u001b[39m \u001b[38;5;66;03m# run simulation of stock price with given volatilty and drift\u001b[39;00m\n\u001b[32m      5\u001b[39m input_kwargs = {\u001b[33m\"\u001b[39m\u001b[33mvolatility\u001b[39m\u001b[33m\"\u001b[39m: \u001b[32m0.001\u001b[39m,\n\u001b[32m      6\u001b[39m                 \u001b[33m\"\u001b[39m\u001b[33mdrift\u001b[39m\u001b[33m\"\u001b[39m : \u001b[32m0.001\u001b[39m,\n\u001b[32m      7\u001b[39m                 \u001b[33m\"\u001b[39m\u001b[33mS0\u001b[39m\u001b[33m\"\u001b[39m : \u001b[32m100\u001b[39m,\n\u001b[32m      8\u001b[39m                 \u001b[33m\"\u001b[39m\u001b[33mt0\u001b[39m\u001b[33m\"\u001b[39m : \u001b[32m0\u001b[39m,\n\u001b[32m      9\u001b[39m                 \u001b[33m\"\u001b[39m\u001b[33mT\u001b[39m\u001b[33m\"\u001b[39m : \u001b[32m3600\u001b[39m*\u001b[32m24\u001b[39m,\n\u001b[32m---> \u001b[39m\u001b[32m10\u001b[39m                 \u001b[33m\"\u001b[39m\u001b[33mdt\u001b[39m\u001b[33m\"\u001b[39m : \u001b[32;43m60\u001b[39;49m}\n\u001b[32m     12\u001b[39m sim = market_data.simulation(**input_kwargs)\n\u001b[32m     13\u001b[39m visual.plot_signal(*sim.forward())\n",
      "\u001b[36mFile \u001b[39m\u001b[32m_pydevd_bundle\\\\pydevd_cython.pyx:1697\u001b[39m, in \u001b[36m_pydevd_bundle.pydevd_cython.SafeCallWrapper.__call__\u001b[39m\u001b[34m()\u001b[39m\n",
      "\u001b[36mFile \u001b[39m\u001b[32m_pydevd_bundle\\\\pydevd_cython.pyx:634\u001b[39m, in \u001b[36m_pydevd_bundle.pydevd_cython.PyDBFrame.trace_dispatch\u001b[39m\u001b[34m()\u001b[39m\n",
      "\u001b[36mFile \u001b[39m\u001b[32m_pydevd_bundle\\\\pydevd_cython.pyx:1112\u001b[39m, in \u001b[36m_pydevd_bundle.pydevd_cython.PyDBFrame.trace_dispatch\u001b[39m\u001b[34m()\u001b[39m\n",
      "\u001b[36mFile \u001b[39m\u001b[32m_pydevd_bundle\\\\pydevd_cython.pyx:1090\u001b[39m, in \u001b[36m_pydevd_bundle.pydevd_cython.PyDBFrame.trace_dispatch\u001b[39m\u001b[34m()\u001b[39m\n",
      "\u001b[36mFile \u001b[39m\u001b[32m_pydevd_bundle\\\\pydevd_cython.pyx:494\u001b[39m, in \u001b[36m_pydevd_bundle.pydevd_cython.PyDBFrame.do_wait_suspend\u001b[39m\u001b[34m()\u001b[39m\n",
      "\u001b[36mFile \u001b[39m\u001b[32m/usr/local/lib/python3.11/site-packages/debugpy/_vendored/pydevd/pydevd.py:2188\u001b[39m, in \u001b[36mPyDB.do_wait_suspend\u001b[39m\u001b[34m(self, thread, frame, event, arg, exception_type)\u001b[39m\n\u001b[32m   2185\u001b[39m             from_this_thread.append(frame_custom_thread_id)\n\u001b[32m   2187\u001b[39m     \u001b[38;5;28;01mwith\u001b[39;00m \u001b[38;5;28mself\u001b[39m._threads_suspended_single_notification.notify_thread_suspended(thread_id, thread, stop_reason):\n\u001b[32m-> \u001b[39m\u001b[32m2188\u001b[39m         keep_suspended = \u001b[38;5;28;43mself\u001b[39;49m\u001b[43m.\u001b[49m\u001b[43m_do_wait_suspend\u001b[49m\u001b[43m(\u001b[49m\u001b[43mthread\u001b[49m\u001b[43m,\u001b[49m\u001b[43m \u001b[49m\u001b[43mframe\u001b[49m\u001b[43m,\u001b[49m\u001b[43m \u001b[49m\u001b[43mevent\u001b[49m\u001b[43m,\u001b[49m\u001b[43m \u001b[49m\u001b[43marg\u001b[49m\u001b[43m,\u001b[49m\u001b[43m \u001b[49m\u001b[43mtrace_suspend_type\u001b[49m\u001b[43m,\u001b[49m\u001b[43m \u001b[49m\u001b[43mfrom_this_thread\u001b[49m\u001b[43m,\u001b[49m\u001b[43m \u001b[49m\u001b[43mframes_tracker\u001b[49m\u001b[43m)\u001b[49m\n\u001b[32m   2190\u001b[39m frames_list = \u001b[38;5;28;01mNone\u001b[39;00m\n\u001b[32m   2192\u001b[39m \u001b[38;5;28;01mif\u001b[39;00m keep_suspended:\n\u001b[32m   2193\u001b[39m     \u001b[38;5;66;03m# This means that we should pause again after a set next statement.\u001b[39;00m\n",
      "\u001b[36mFile \u001b[39m\u001b[32m/usr/local/lib/python3.11/site-packages/debugpy/_vendored/pydevd/pydevd.py:2257\u001b[39m, in \u001b[36mPyDB._do_wait_suspend\u001b[39m\u001b[34m(self, thread, frame, event, arg, trace_suspend_type, from_this_thread, frames_tracker)\u001b[39m\n\u001b[32m   2254\u001b[39m                 queue.put(internal_cmd)\n\u001b[32m   2255\u001b[39m                 wait_timeout = TIMEOUT_FAST\n\u001b[32m-> \u001b[39m\u001b[32m2257\u001b[39m         \u001b[43mnotify_event\u001b[49m\u001b[43m.\u001b[49m\u001b[43mwait\u001b[49m\u001b[43m(\u001b[49m\u001b[43mwait_timeout\u001b[49m\u001b[43m)\u001b[49m\n\u001b[32m   2258\u001b[39m         notify_event.clear()\n\u001b[32m   2260\u001b[39m \u001b[38;5;28;01mfinally\u001b[39;00m:\n",
      "\u001b[36mFile \u001b[39m\u001b[32m/usr/local/lib/python3.11/threading.py:629\u001b[39m, in \u001b[36mEvent.wait\u001b[39m\u001b[34m(self, timeout)\u001b[39m\n\u001b[32m    627\u001b[39m signaled = \u001b[38;5;28mself\u001b[39m._flag\n\u001b[32m    628\u001b[39m \u001b[38;5;28;01mif\u001b[39;00m \u001b[38;5;129;01mnot\u001b[39;00m signaled:\n\u001b[32m--> \u001b[39m\u001b[32m629\u001b[39m     signaled = \u001b[38;5;28;43mself\u001b[39;49m\u001b[43m.\u001b[49m\u001b[43m_cond\u001b[49m\u001b[43m.\u001b[49m\u001b[43mwait\u001b[49m\u001b[43m(\u001b[49m\u001b[43mtimeout\u001b[49m\u001b[43m)\u001b[49m\n\u001b[32m    630\u001b[39m \u001b[38;5;28;01mreturn\u001b[39;00m signaled\n",
      "\u001b[36mFile \u001b[39m\u001b[32m/usr/local/lib/python3.11/threading.py:331\u001b[39m, in \u001b[36mCondition.wait\u001b[39m\u001b[34m(self, timeout)\u001b[39m\n\u001b[32m    329\u001b[39m \u001b[38;5;28;01melse\u001b[39;00m:\n\u001b[32m    330\u001b[39m     \u001b[38;5;28;01mif\u001b[39;00m timeout > \u001b[32m0\u001b[39m:\n\u001b[32m--> \u001b[39m\u001b[32m331\u001b[39m         gotit = \u001b[43mwaiter\u001b[49m\u001b[43m.\u001b[49m\u001b[43macquire\u001b[49m\u001b[43m(\u001b[49m\u001b[38;5;28;43;01mTrue\u001b[39;49;00m\u001b[43m,\u001b[49m\u001b[43m \u001b[49m\u001b[43mtimeout\u001b[49m\u001b[43m)\u001b[49m\n\u001b[32m    332\u001b[39m     \u001b[38;5;28;01melse\u001b[39;00m:\n\u001b[32m    333\u001b[39m         gotit = waiter.acquire(\u001b[38;5;28;01mFalse\u001b[39;00m)\n",
      "\u001b[31mKeyboardInterrupt\u001b[39m: "
     ]
    }
   ],
   "source": [
    "\n",
    "\n",
    "# Ticker\tNome\n",
    "# run simulation of stock price with given volatilty and drift\n",
    "input_kwargs = {\"volatility\": 0.00001,\n",
    "                \"drift\" : 0.00001,\n",
    "                \"S0\" : 100,\n",
    "                \"t0\" : 0,\n",
    "                \"T\" : 3600*24,\n",
    "                \"dt\" : 60}\n",
    "\n",
    "sim = market_data.simulation(**input_kwargs)\n",
    "visual.plot_signal(*sim.forward())\n",
    "# compute BS price of option\n",
    "\n",
    "# Implement delta hedging and test that gains/losses are zero\n",
    "\n",
    "\n",
    "tickers_collection = ['AAPL','MSFT','NVDA',\t'AMD','TSLA','META','SPY']\n",
    "for ticker_name in tickers_collection:\n",
    "    # download\n",
    "\n",
    "    # get options \n",
    "\n",
    "    # estimate price with different volatilities\n",
    "\n",
    "    # estimate the actual volatility\n",
    "\n",
    "    # compare BS price w.r.t. real \n",
    "\n",
    "    # payoff graph over time\n",
    "\n",
    "    # Implement delta hedging\n",
    "\n",
    "    # Compute losses/gains \n",
    "\n",
    "    # Implement gamma, vega, rho\n",
    "\n",
    "    # compute losses/gains\n",
    "    pass\n",
    "\n",
    "    "
   ]
  },
  {
   "cell_type": "code",
   "execution_count": null,
   "id": "2501525d",
   "metadata": {},
   "outputs": [],
   "source": []
  }
 ],
 "metadata": {
  "kernelspec": {
   "display_name": "Python 3",
   "language": "python",
   "name": "python3"
  },
  "language_info": {
   "codemirror_mode": {
    "name": "ipython",
    "version": 3
   },
   "file_extension": ".py",
   "mimetype": "text/x-python",
   "name": "python",
   "nbconvert_exporter": "python",
   "pygments_lexer": "ipython3",
   "version": "3.11.12"
  }
 },
 "nbformat": 4,
 "nbformat_minor": 5
}
